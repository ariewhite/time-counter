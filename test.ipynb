{
 "cells": [
  {
   "cell_type": "code",
   "execution_count": 1,
   "metadata": {},
   "outputs": [],
   "source": [
    "import sqlite3"
   ]
  },
  {
   "cell_type": "code",
   "execution_count": 2,
   "metadata": {},
   "outputs": [],
   "source": [
    "con = sqlite3.connect('test.db')\n",
    "cur = con.cursor()"
   ]
  },
  {
   "cell_type": "code",
   "execution_count": 17,
   "metadata": {},
   "outputs": [],
   "source": [
    "# cur.execute('''CREATE TABLE IF NOT EXISTS `session` (\n",
    "#             `game_id` integer,\n",
    "#             `started_at` integer,\n",
    "#             `ended_at` integer\n",
    "#             );''')\n",
    "\n",
    "cur.execute('''CREATE TABLE IF NOT EXISTS `games` (\n",
    "            `id` integer,\n",
    "            `name` text,\n",
    "            `total_hours` real,\n",
    "            `created_at` integer\n",
    "            );''')\n",
    "\n",
    "# print('table is created')\n",
    "        \n",
    "        \n",
    "\n",
    "con.commit()"
   ]
  },
  {
   "cell_type": "code",
   "execution_count": 24,
   "metadata": {},
   "outputs": [
    {
     "name": "stdout",
     "output_type": "stream",
     "text": [
      "game_id 13\n"
     ]
    }
   ],
   "source": [
    "# import time\n",
    "# from datetime import datetime\n",
    "\n",
    "# game_id = 13  \n",
    "\n",
    "# game_name = 'Left 4 Dead 2'\n",
    "\n",
    "# print('game_id', game_id)\n",
    "\n",
    "    \n",
    "# cur.execute(f'''insert into games\n",
    "#             values(\n",
    "#             {game_id},\n",
    "#             '{game_name}',\n",
    "#             0,\n",
    "#             '{int(datetime.now().timestamp())}');\n",
    "#             ''')\n",
    "        \n",
    "# con.commit()\n"
   ]
  },
  {
   "cell_type": "code",
   "execution_count": 6,
   "metadata": {},
   "outputs": [
    {
     "data": {
      "text/plain": [
       "<sqlite3.Cursor at 0x288addb4040>"
      ]
     },
     "execution_count": 6,
     "metadata": {},
     "output_type": "execute_result"
    }
   ],
   "source": [
    "from datetime import datetime\n",
    "\n",
    "cur.execute(f'''insert into session\n",
    "            values(\n",
    "            5,\n",
    "            '{int(datetime.now().timestamp())}',\n",
    "            '{int(datetime.now().timestamp())}'\n",
    "            );\n",
    "''')"
   ]
  },
  {
   "cell_type": "code",
   "execution_count": 37,
   "metadata": {},
   "outputs": [
    {
     "name": "stdout",
     "output_type": "stream",
     "text": [
      "exception - try\n",
      "9\n"
     ]
    }
   ],
   "source": [
    "import time\n",
    "from datetime import datetime\n",
    "\n",
    "try:\n",
    "    game_id = cur.execute('SELECT id FROM games ORDER BY id DESC LIMIT 0, 1;')\n",
    "    game_id = game_id.fetchone()\n",
    "    game_id = game_id[0] + 1\n",
    "    print('exception - try')\n",
    "except: \n",
    "    game_id = 0\n",
    "    print('exception - except')\n",
    "    \n",
    "print(game_id)\n",
    "        \n",
    "\n",
    "cur.execute(f'''INSERT INTO games \n",
    "    VALUES ({game_id},\n",
    "    'hui',\n",
    "    0,\n",
    "    '{int(datetime.now().timestamp())}');\n",
    "    ''')\n",
    "        \n",
    "con.commit()"
   ]
  },
  {
   "cell_type": "code",
   "execution_count": 28,
   "metadata": {},
   "outputs": [
    {
     "name": "stdout",
     "output_type": "stream",
     "text": [
      "exception - try\n"
     ]
    }
   ],
   "source": [
    "game_id = cur.execute('SELECT id FROM games ORDER BY id DESC LIMIT 0, 1;')\n",
    "game_id = game_id.fetchone()\n",
    "game_id=game_id[0] + 1\n",
    "print('exception - try')"
   ]
  },
  {
   "cell_type": "code",
   "execution_count": 55,
   "metadata": {},
   "outputs": [
    {
     "name": "stdout",
     "output_type": "stream",
     "text": [
      "1707087793\n",
      "2024-02-05 02:03:13\n"
     ]
    }
   ],
   "source": [
    "from datetime import datetime, timedelta\n",
    "\n",
    "datedb = datetime.fromtimestamp(res)\n",
    "time_to_add = timedelta(hours=1, minutes=30)\n",
    "time_to_add = int(time_to_add.total_seconds())\n",
    "result = res + time_to_add\n",
    "print(result)\n",
    "result = datetime.fromtimestamp(result)\n",
    "print(result)"
   ]
  },
  {
   "cell_type": "code",
   "execution_count": 46,
   "metadata": {},
   "outputs": [
    {
     "name": "stdout",
     "output_type": "stream",
     "text": [
      "1707146389\n",
      "1707146635\n"
     ]
    }
   ],
   "source": [
    "#date1 = datetime.now() \n",
    "print(date1_stamp)\n",
    "date1_stamp = int(date1.timestamp())\n",
    "#date2 = datetime.now()\n",
    "date2_stamp = int(date2.timestamp())\n",
    "print(date2_stamp)"
   ]
  },
  {
   "cell_type": "code",
   "execution_count": 45,
   "metadata": {},
   "outputs": [
    {
     "name": "stdout",
     "output_type": "stream",
     "text": [
      "246\n",
      "0:04:05.974453\n"
     ]
    },
    {
     "data": {
      "text/plain": [
       "datetime.timedelta(seconds=245, microseconds=974453)"
      ]
     },
     "execution_count": 45,
     "metadata": {},
     "output_type": "execute_result"
    }
   ],
   "source": [
    "res = date2_stamp - date1_stamp\n",
    "print(res)\n",
    "res = date2 - date1\n",
    "print(res)\n",
    "res"
   ]
  },
  {
   "cell_type": "code",
   "execution_count": 54,
   "metadata": {},
   "outputs": [
    {
     "name": "stdout",
     "output_type": "stream",
     "text": [
      "1707146635 1707146389 246\n",
      "1707146739 1707146389 350\n",
      "1707148039 1707146889 1150\n",
      "1746\n"
     ]
    }
   ],
   "source": [
    "def get_sessions(cur : sqlite3.Cursor, row, game_id):\n",
    "    try: \n",
    "        if game_id != -1:\n",
    "            result = cur.execute(f'''\n",
    "                        SELECT {row} FROM session\n",
    "                        WHERE game_id = {game_id};\n",
    "                        ''')\n",
    "        else:\n",
    "            result = cur.execute(f'''\n",
    "                        SELECT {row} FROM session;\n",
    "                        ''')\n",
    "        \n",
    "        return result.fetchall()\n",
    "    \n",
    "    except:\n",
    "        print('hui')\n",
    "\n",
    "\n",
    "def all_time_count(game_id):\n",
    "    if game_id == -1:\n",
    "        sessions = get_sessions(cur, '*', -1)\n",
    "    else:\n",
    "        sessions = get_sessions(cur, '*', game_id)\n",
    "\n",
    "\n",
    "    seconds_count = 0\n",
    "\n",
    "\n",
    "    for i in range(len(sessions)):\n",
    "        # sessions is array : sessions[id][1-startime/2-endtime]   \n",
    "        # where session[id][1/2] is datetime.timestamp\n",
    "\n",
    "        time_difference = sessions[i][2] - sessions[i][1]\n",
    "\n",
    "        print(sessions[i][2], sessions[i][1], time_difference)\n",
    "\n",
    "        seconds_count += time_difference \n",
    "\n",
    "    return seconds_count  \n",
    "\n",
    "res = all_time_count(0)\n",
    "print(res)\n",
    "\n"
   ]
  },
  {
   "cell_type": "code",
   "execution_count": 64,
   "metadata": {},
   "outputs": [
    {
     "name": "stdout",
     "output_type": "stream",
     "text": [
      "time dif: 0.485\n",
      "1746\n"
     ]
    }
   ],
   "source": [
    "total_seconds = res\n",
    "\n",
    "hours = total_seconds / 3600\n",
    "# minutes = int((total_seconds % 3600) // 60)\n",
    "# seconds = int(total_seconds % 60)\n",
    "\n",
    "# min_to_hours = float(minutes/60)\n",
    "# sec_to_hours = float(seconds/3600)\n",
    "\n",
    "# hours = float(hours)\n",
    "\n",
    "# hours += (min_to_hours + sec_to_hours)\n",
    "\n",
    "print(f\"time dif: {hours}\")  \n",
    "print(res)"
   ]
  },
  {
   "cell_type": "code",
   "execution_count": 65,
   "metadata": {},
   "outputs": [
    {
     "ename": "OperationalError",
     "evalue": "no such column: game_id",
     "output_type": "error",
     "traceback": [
      "\u001b[1;31m---------------------------------------------------------------------------\u001b[0m",
      "\u001b[1;31mOperationalError\u001b[0m                          Traceback (most recent call last)",
      "Cell \u001b[1;32mIn[65], line 4\u001b[0m\n\u001b[0;32m      1\u001b[0m hours \u001b[38;5;241m=\u001b[39m res\u001b[38;5;241m/\u001b[39m\u001b[38;5;241m3600\u001b[39m\n\u001b[0;32m      2\u001b[0m game_id \u001b[38;5;241m=\u001b[39m \u001b[38;5;241m2\u001b[39m       \n\u001b[1;32m----> 4\u001b[0m \u001b[43mcur\u001b[49m\u001b[38;5;241;43m.\u001b[39;49m\u001b[43mexecute\u001b[49m\u001b[43m(\u001b[49m\u001b[38;5;124;43mf\u001b[39;49m\u001b[38;5;124;43m'''\u001b[39;49m\n\u001b[0;32m      5\u001b[0m \u001b[38;5;124;43m                UPDATE game\u001b[39;49m\n\u001b[0;32m      6\u001b[0m \u001b[38;5;124;43m                SET total_hours = \u001b[39;49m\u001b[38;5;132;43;01m{\u001b[39;49;00m\u001b[43mhours\u001b[49m\u001b[38;5;132;43;01m}\u001b[39;49;00m\u001b[38;5;124;43m   \u001b[39;49m\n\u001b[0;32m      7\u001b[0m \u001b[38;5;124;43m                WHERE game_id = \u001b[39;49m\u001b[38;5;132;43;01m{\u001b[39;49;00m\u001b[43mgame_id\u001b[49m\u001b[38;5;132;43;01m}\u001b[39;49;00m\u001b[38;5;124;43m;\u001b[39;49m\n\u001b[0;32m      8\u001b[0m \u001b[38;5;124;43m                \u001b[39;49m\u001b[38;5;124;43m'''\u001b[39;49m\u001b[43m)\u001b[49m\n\u001b[0;32m     10\u001b[0m con\u001b[38;5;241m.\u001b[39mcommit()\n",
      "\u001b[1;31mOperationalError\u001b[0m: no such column: game_id"
     ]
    }
   ],
   "source": [
    "hours = res/3600\n",
    "game_id = 2       \n",
    " \n",
    "cur.execute(f'''\n",
    "                UPDATE game\n",
    "                SET total_hours = {hours}   \n",
    "                WHERE game_id = {game_id};\n",
    "                ''')\n",
    "        \n",
    "con.commit()\n",
    "\n"
   ]
  },
  {
   "cell_type": "code",
   "execution_count": null,
   "metadata": {},
   "outputs": [],
   "source": [
    "def commit_game(connect : sqlite3.Connection, cursor : sqlite3.Cursor, game_name):  \n",
    "    #get game_id  \n",
    "    try:\n",
    "        game_id = cursor.execute('SELECT id FROM game ORDER BY id DESC LIMIT 0, 1;')\n",
    "        game_id = game_id.fetchone()\n",
    "        game_id = game_id[0] + 1\n",
    "\n",
    "    except: \n",
    "        game_id = 0\n",
    "\n",
    "\n",
    "    try: \n",
    "        cursor.execute(f'''INSERT INTO game \n",
    "                        VALUES (\n",
    "                        {game_id},\n",
    "                        '{game_name}',\n",
    "                        0,\n",
    "                        '{int(datetime.now().timestamp())}');\n",
    "                        ''')\n",
    "\n",
    "        connect.commit()\n",
    "\n",
    "    except:\n",
    "        print('Error to commit game')"
   ]
  },
  {
   "cell_type": "code",
   "execution_count": 70,
   "metadata": {},
   "outputs": [
    {
     "name": "stdout",
     "output_type": "stream",
     "text": [
      "eblank\n",
      "eblank\n",
      "eblank\n",
      "eblank\n",
      "Est popadanie\n",
      "eblank\n",
      "eblank\n",
      "eblank\n",
      "eblank\n",
      "eblank\n",
      "eblank\n",
      "eblank\n",
      "eblank\n",
      "eblank\n",
      "eblank\n"
     ]
    }
   ],
   "source": [
    "res = cur.execute('SELECT name FROM game')\n",
    "res = res.fetchall()\n",
    "for i in range(len(res)):\n",
    "    if 'Portal' == res[i][0]:\n",
    "        print('Est popadanie')\n",
    "        i \n",
    "    else:\n",
    "        print('eblank')"
   ]
  },
  {
   "cell_type": "code",
   "execution_count": 4,
   "metadata": {},
   "outputs": [
    {
     "ename": "TypeError",
     "evalue": "'builtin_function_or_method' object is not subscriptable",
     "output_type": "error",
     "traceback": [
      "\u001b[1;31m---------------------------------------------------------------------------\u001b[0m",
      "\u001b[1;31mTypeError\u001b[0m                                 Traceback (most recent call last)",
      "Cell \u001b[1;32mIn[4], line 6\u001b[0m\n\u001b[0;32m      4\u001b[0m cur\u001b[38;5;241m.\u001b[39mexecute(\u001b[38;5;124m\"\u001b[39m\u001b[38;5;124mselect * from games\u001b[39m\u001b[38;5;124m\"\u001b[39m)\n\u001b[0;32m      5\u001b[0m res \u001b[38;5;241m=\u001b[39m cur\u001b[38;5;241m.\u001b[39mfetchall\n\u001b[1;32m----> 6\u001b[0m \u001b[38;5;28mprint\u001b[39m(\u001b[43mres\u001b[49m\u001b[43m[\u001b[49m\u001b[38;5;241;43m0\u001b[39;49m\u001b[43m]\u001b[49m)\n",
      "\u001b[1;31mTypeError\u001b[0m: 'builtin_function_or_method' object is not subscriptable"
     ]
    }
   ],
   "source": [
    "# con = sqlite3.connect('test.db')\n",
    "# cur = con.cursor()\n",
    "\n",
    "cur.execute(\"select * from games\")\n",
    "res = cur.fetchall()\n",
    "print(res[0])"
   ]
  }
 ],
 "metadata": {
  "kernelspec": {
   "display_name": ".venv",
   "language": "python",
   "name": "python3"
  },
  "language_info": {
   "codemirror_mode": {
    "name": "ipython",
    "version": 3
   },
   "file_extension": ".py",
   "mimetype": "text/x-python",
   "name": "python",
   "nbconvert_exporter": "python",
   "pygments_lexer": "ipython3",
   "version": "3.11.9"
  }
 },
 "nbformat": 4,
 "nbformat_minor": 2
}
